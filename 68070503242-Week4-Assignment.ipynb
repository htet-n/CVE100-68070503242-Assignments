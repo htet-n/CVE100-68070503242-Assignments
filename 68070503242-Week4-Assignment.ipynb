{
 "cells": [
  {
   "cell_type": "code",
   "execution_count": 4,
   "id": "3e903202",
   "metadata": {},
   "outputs": [
    {
     "name": "stdout",
     "output_type": "stream",
     "text": [
      "0 is even.\n",
      "1 is odd.\n",
      "2 is even.\n",
      "3 is odd.\n",
      "4 is even.\n"
     ]
    }
   ],
   "source": [
    "# Even and Odd\n",
    "''' interate for loop from number 1 to n:\n",
    "if the number is even, print \"[number] is even\"\n",
    "otheerwise, print \"[number] is odd\"'''\n",
    "\n",
    "n = int(input(\"Enter the number to iterate to: \"))\n",
    "for i in range(n):\n",
    "    if i%2==0:\n",
    "        print(str(i) + \" is even.\")\n",
    "    else:\n",
    "        print(str(i) + \" is odd.\")"
   ]
  },
  {
   "cell_type": "code",
   "execution_count": 16,
   "id": "89767088",
   "metadata": {},
   "outputs": [
    {
     "name": "stdout",
     "output_type": "stream",
     "text": [
      "Result =  6\n",
      "Result =  12\n",
      "Result =  18\n",
      "Result =  24\n",
      "Result =  30\n",
      "Result =  36\n",
      "Result =  42\n",
      "Result =  48\n",
      "The result is large\n",
      "The result is large\n"
     ]
    }
   ],
   "source": [
    "# multiplication \n",
    "''' define n (n =5)\n",
    "Use a loop from 1 to 10 (the values of i is 1 to 10)\n",
    "if the result of multiplication (num*i) is greater than 50>= print (\"The result is large\")\n",
    "otherwise, print the actual result ==> print (\"Result=\", result)'''\n",
    "\n",
    "num = int(input(\"Enter a number: \"))\n",
    "result = 0\n",
    "for i in range(1,11):\n",
    "    result = num*i\n",
    "    if result > 50:\n",
    "        print(\"The result is large\")\n",
    "    else:\n",
    "        print(\"Result = \", result)\n"
   ]
  },
  {
   "cell_type": "code",
   "execution_count": 20,
   "id": "f5baef38",
   "metadata": {},
   "outputs": [
    {
     "name": "stdout",
     "output_type": "stream",
     "text": [
      "1\n",
      "2\n",
      "3\n",
      "5\n",
      "6\n",
      "7\n",
      "9\n",
      "10\n",
      "11\n",
      "13\n",
      "14\n",
      "15\n",
      "17\n",
      "18\n",
      "19\n"
     ]
    }
   ],
   "source": [
    "# skipping the special numbers\n",
    "\n",
    "'''\n",
    "define n\n",
    "loop numbers from 1 to n\n",
    "if the number is divisible by 4, skip with continue\n",
    "if the number is greather than 20, stop the loop by breaking\n",
    "otherwise, print the number'''\n",
    "\n",
    "n = int(input(\"Enter a number: \"))\n",
    "\n",
    "for i in range(1, n):\n",
    "    if i%4==0:\n",
    "        continue\n",
    "    if i>20:\n",
    "        break\n",
    "    print(i)"
   ]
  },
  {
   "cell_type": "code",
   "execution_count": 1,
   "id": "afd26c21",
   "metadata": {},
   "outputs": [
    {
     "name": "stdout",
     "output_type": "stream",
     "text": [
      "Try Again\n",
      "Try Again\n",
      "You got it\n"
     ]
    }
   ],
   "source": [
    "'''\n",
    "Guess the number\n",
    "The secret number is 777\n",
    "Ask the user to guess until they get it right\n",
    "If the guess is wrong, print \"Try again\"\n",
    "If the guess is right, print \"You got it\" and stop the loop\n",
    "'''\n",
    "\n",
    "secretNum=777\n",
    "guessNum=int(input(\"Guess the number from 000 to 999: \"))\n",
    "\n",
    "while guessNum!=secretNum:\n",
    "    print(\"Try Again\")\n",
    "    guessNum=int(input(\"Guess the number from 000 to 999: \"))\n",
    "   \n",
    "print(\"You got it\")"
   ]
  },
  {
   "cell_type": "code",
   "execution_count": 3,
   "id": "e42f9de5",
   "metadata": {},
   "outputs": [
    {
     "name": "stdout",
     "output_type": "stream",
     "text": [
      "Limit reached. You cannot buy anymore\n"
     ]
    }
   ],
   "source": [
    "'''\n",
    "Shopping Cart Checkout System\n",
    "\n",
    "Use initial variable total_bill=0\n",
    "ask user to add price and add the price to total_bill\n",
    "If total_bill>1000, print(\"Limit reached. You cannot buy anymore\") and break the loop\n",
    "Otherwise, ask user to add price\n",
    "'''\n",
    "\n",
    "total_bill=0\n",
    "\n",
    "while total_bill<1000:\n",
    "    add = int(input(\"Add the price: \"))\n",
    "    total_bill = total_bill + add\n",
    "print(\"Limit reached. You cannot buy anymore\")"
   ]
  }
 ],
 "metadata": {
  "kernelspec": {
   "display_name": "Python 3",
   "language": "python",
   "name": "python3"
  },
  "language_info": {
   "codemirror_mode": {
    "name": "ipython",
    "version": 3
   },
   "file_extension": ".py",
   "mimetype": "text/x-python",
   "name": "python",
   "nbconvert_exporter": "python",
   "pygments_lexer": "ipython3",
   "version": "3.13.7"
  }
 },
 "nbformat": 4,
 "nbformat_minor": 5
}
