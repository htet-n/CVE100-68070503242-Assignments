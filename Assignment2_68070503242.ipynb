{
  "cells": [
    {
      "cell_type": "markdown",
      "metadata": {
        "id": "oPWj32AfdpXl"
      },
      "source": [
        "#  Numbers"
      ]
    },
    {
      "cell_type": "markdown",
      "metadata": {
        "id": "I_UaxL_adpXn"
      },
      "source": [
        "Compute the number of bytes in one Gigabyte (1kb = 1024 bytes, 1mb = 1024 kb, 1gb = 1024 mb)"
      ]
    },
    {
      "cell_type": "code",
      "execution_count": null,
      "metadata": {
        "colab": {
          "base_uri": "https://localhost:8080/"
        },
        "id": "J3WDT7i8dpXn",
        "outputId": "40c9bd44-d00b-44b4-ff76-57ff773fa61b"
      },
      "outputs": [
        {
          "output_type": "stream",
          "name": "stdout",
          "text": [
            "1073741824\n"
          ]
        }
      ],
      "source": [
        "#Write your code here\n",
        "GB = 1\n",
        "MB = GB * 1024\n",
        "KB = MB * 1024\n",
        "B = KB * 1024\n",
        "print(B)"
      ]
    },
    {
      "cell_type": "markdown",
      "metadata": {
        "id": "ckOLFapJdpXo"
      },
      "source": [
        "You bought 500 shares of stock A at $\\$$600 on day 0 and you sold it at  $\\$$1000 on day 700.\n",
        "The daily discount rate is 0.0001%. How much profit did you make in terms of net present value.\n"
      ]
    },
    {
      "cell_type": "code",
      "execution_count": null,
      "metadata": {
        "colab": {
          "base_uri": "https://localhost:8080/"
        },
        "id": "rJJ_BEhmdpXp",
        "outputId": "4aff91dc-ebe0-457d-c414-aed2aa9afb94"
      },
      "outputs": [
        {
          "output_type": "stream",
          "name": "stdout",
          "text": [
            "Net Present Value Profit: 199650.12264632783\n"
          ]
        }
      ],
      "source": [
        "#Write your code here\n",
        "num_shares = 500\n",
        "buy_price = 600\n",
        "sell_price = 1000\n",
        "days = 700\n",
        "daily_discount_rate = 0.0001 / 100\n",
        "\n",
        "bought = num_shares * buy_price\n",
        "sold = num_shares * sell_price\n",
        "discount = 1 / ((1 + daily_discount_rate) ** days)\n",
        "total = sold * discount\n",
        "profit = total - bought\n",
        "print(str(profit))"
      ]
    },
    {
      "cell_type": "markdown",
      "metadata": {
        "id": "_daK0elzdpXp"
      },
      "source": [
        "For any value of x, create a variable called even_check that is True if x is even and False if x is odd."
      ]
    },
    {
      "cell_type": "code",
      "execution_count": null,
      "metadata": {
        "run_control": {
          "marked": true
        },
        "colab": {
          "base_uri": "https://localhost:8080/"
        },
        "id": "mGtT3GitdpXp",
        "outputId": "a1b0c61a-8aab-42bb-f4dd-ee7b044bff5c"
      },
      "outputs": [
        {
          "output_type": "stream",
          "name": "stdout",
          "text": [
            "Enter a number32\n",
            "True\n"
          ]
        }
      ],
      "source": [
        "#Write your code here\n",
        "x = int(input(\"Enter a number: \"))\n",
        "even_check =  x % 2\n",
        "if even_check==0:\n",
        "    print(True)\n",
        "else:\n",
        "    print(False)"
      ]
    },
    {
      "cell_type": "markdown",
      "metadata": {
        "id": "TA_k68VzdpXq"
      },
      "source": [
        "You have num_shirts t-shirts, num_shorts pairs of shorts and num_shoes pairs of shoes.  Create a variable called num_outfits that stores the total number of different outfits you can make."
      ]
    },
    {
      "cell_type": "code",
      "execution_count": null,
      "metadata": {
        "colab": {
          "base_uri": "https://localhost:8080/"
        },
        "id": "ZX2YxgJmdpXq",
        "outputId": "f1cf583e-b709-4a22-b18c-51b751163ce8"
      },
      "outputs": [
        {
          "output_type": "stream",
          "name": "stdout",
          "text": [
            "Enter number of shirts: 5\n",
            "Enter number of pairs of shorts: 4\n",
            "Enter number of pairs of shoes: 3\n",
            "60\n"
          ]
        }
      ],
      "source": [
        "#Write your code here\n",
        "num_shirts = int(input(\"Enter number of shirts: \"))\n",
        "num_shorts = int(input(\"Enter number of pairs of shorts: \"))\n",
        "num_shoes = int(input(\"Enter number of pairs of shoes: \"))\n",
        "\n",
        "num_outfits = num_shirts * num_shorts * num_shoes\n",
        "print(num_outfits)"
      ]
    },
    {
      "cell_type": "markdown",
      "metadata": {
        "id": "yFJRZZdsdpXq"
      },
      "source": [
        "# String Practice\n",
        "\n",
        "Create variable called \"name\" that stores your full name. Find whether your name has an even or odd number of letters."
      ]
    },
    {
      "cell_type": "code",
      "execution_count": null,
      "metadata": {
        "id": "q7AFdKycdpXr",
        "colab": {
          "base_uri": "https://localhost:8080/"
        },
        "outputId": "e9c8faa2-e6f8-43ce-ab9b-7d77d3e32cb4"
      },
      "outputs": [
        {
          "output_type": "stream",
          "name": "stdout",
          "text": [
            "Enter your name: Thomas\n",
            "Name has even numbers.\n"
          ]
        }
      ],
      "source": [
        "#Write your code here\n",
        "name = str(input(\"Enter your name: \"))\n",
        "length = int((len(name)))\n",
        "\n",
        "if length % 2 == 0:\n",
        "  print(\"Name has even numbers.\")\n",
        "else:\n",
        "  print(\"Name has odd numbers.\")"
      ]
    },
    {
      "cell_type": "markdown",
      "metadata": {
        "id": "TJZ5LXLJdpXs"
      },
      "source": [
        "Correct the following variable so it is equal to \"spammy\""
      ]
    },
    {
      "cell_type": "code",
      "execution_count": null,
      "metadata": {
        "id": "THqIXgPldpXs",
        "colab": {
          "base_uri": "https://localhost:8080/"
        },
        "outputId": "bcd59370-a4e7-49a5-ecf5-e5fe64587fa8"
      },
      "outputs": [
        {
          "output_type": "stream",
          "name": "stdout",
          "text": [
            "spammy\n"
          ]
        }
      ],
      "source": [
        "#Write your code here\n",
        "s = \"spaxxy\"\n",
        "s = s.replace(\"x\", \"m\")\n",
        "print(s)"
      ]
    },
    {
      "cell_type": "markdown",
      "metadata": {
        "id": "44e9UEi0dpXs"
      },
      "source": [
        "Figure out a way to slice and combine the strings s1, s2, and s3 so that the variable consec_ints = \"123456789\"."
      ]
    },
    {
      "cell_type": "code",
      "execution_count": null,
      "metadata": {
        "id": "TFMYPgM9dpXs",
        "colab": {
          "base_uri": "https://localhost:8080/"
        },
        "outputId": "7f2b8aae-dea3-4b65-89b1-724353910ad9"
      },
      "outputs": [
        {
          "output_type": "stream",
          "name": "stdout",
          "text": [
            "123456789\n"
          ]
        }
      ],
      "source": [
        "s1 = \"12345\"\n",
        "s2 = \"34567\"\n",
        "s3 = \"789\"\n",
        "\n",
        "#Write your code here\n",
        "print(s1[:2] + s2[:4] + s3)\n"
      ]
    },
    {
      "cell_type": "markdown",
      "metadata": {
        "id": "e8_pVEI1dpXt"
      },
      "source": [
        "#  List Practice\n",
        "\n"
      ]
    },
    {
      "cell_type": "markdown",
      "metadata": {
        "id": "Zfmd0n7jdpXt"
      },
      "source": [
        "Add the first and last elements of the list L. Store the result in a variable called sum_first_last. Your code should work if I change L."
      ]
    },
    {
      "cell_type": "code",
      "execution_count": null,
      "metadata": {
        "id": "-_uG3FipdpXt",
        "colab": {
          "base_uri": "https://localhost:8080/"
        },
        "outputId": "b0f9b254-fc0c-4c56-9252-0cfc631a337f"
      },
      "outputs": [
        {
          "output_type": "stream",
          "name": "stdout",
          "text": [
            "72\n"
          ]
        }
      ],
      "source": [
        "L = [5,1,43,2,4,56,7,90, 67]\n",
        "\n",
        "#Write your code here\n",
        "sum_first_last = L[0]+ L[-1]\n",
        "print(sum_first_last)"
      ]
    },
    {
      "cell_type": "markdown",
      "metadata": {
        "id": "UzvM5SpldpXt"
      },
      "source": [
        "Slice and combine the elements of the list L in a way to print out \"spam\"."
      ]
    },
    {
      "cell_type": "code",
      "execution_count": null,
      "metadata": {
        "id": "vxP97mz3dpXu",
        "colab": {
          "base_uri": "https://localhost:8080/"
        },
        "outputId": "0da50a57-24bc-48bf-ba5e-0fdafb117f75"
      },
      "outputs": [
        {
          "output_type": "stream",
          "name": "stdout",
          "text": [
            "spam\n"
          ]
        }
      ],
      "source": [
        "L = [1,\"s\", 2, 3, \"p\", \"a\", 34,1,\"m\"]\n",
        "\n",
        "\n",
        "#Write your code here\n",
        "print(L[1]+L[4]+L[5]+L[8])\n"
      ]
    },
    {
      "cell_type": "markdown",
      "metadata": {
        "id": "z2zwLD84dpXu"
      },
      "source": [
        "Create a variable called num_L which store the number represented by the list of strings in L.  For the example num_L should be 145. You may assume 3 digit numbers."
      ]
    },
    {
      "cell_type": "code",
      "execution_count": null,
      "metadata": {
        "id": "t8uvi0F2dpXu",
        "colab": {
          "base_uri": "https://localhost:8080/"
        },
        "outputId": "7fa675ea-d6c4-4903-b87b-c89f03c7e471"
      },
      "outputs": [
        {
          "output_type": "stream",
          "name": "stdout",
          "text": [
            "145\n"
          ]
        }
      ],
      "source": [
        "L = [\"1\",\"4\",\"5\" ]\n",
        "\n",
        "#Write you code here\n",
        "num_L = L[0] + L[1] + L[2]\n",
        "print(num_L)"
      ]
    },
    {
      "cell_type": "markdown",
      "metadata": {
        "id": "buj9MhMndpXu"
      },
      "source": [
        "Create a list L of numbers of odd length.  Complete the following tasks:\n",
        "\n",
        " - Find the median element\n",
        " - Slice out all element indexed lower than the median element"
      ]
    },
    {
      "cell_type": "code",
      "execution_count": null,
      "metadata": {
        "id": "Byk3HJbAdpXu",
        "colab": {
          "base_uri": "https://localhost:8080/"
        },
        "outputId": "469201cf-51ae-4c52-96ba-b82120a236ee"
      },
      "outputs": [
        {
          "output_type": "stream",
          "name": "stdout",
          "text": [
            "5\n",
            "[5, 6, 6, 9]\n"
          ]
        }
      ],
      "source": [
        "L= [4,5,3,2,6,6,9]\n",
        "\n",
        "#Write your code here\n",
        "L.sort()\n",
        "median=int(len(L)/2)\n",
        "print(L[median])\n",
        "print(L[median:])"
      ]
    }
  ],
  "metadata": {
    "kernelspec": {
      "display_name": "Python 3",
      "language": "python",
      "name": "python3"
    },
    "language_info": {
      "codemirror_mode": {
        "name": "ipython",
        "version": 3
      },
      "file_extension": ".py",
      "mimetype": "text/x-python",
      "name": "python",
      "nbconvert_exporter": "python",
      "pygments_lexer": "ipython3",
      "version": "3.6.0"
    },
    "toc": {
      "colors": {
        "hover_highlight": "#DAA520",
        "navigate_num": "#000000",
        "navigate_text": "#333333",
        "running_highlight": "#FF0000",
        "selected_highlight": "#FFD700",
        "sidebar_border": "#EEEEEE",
        "wrapper_background": "#FFFFFF"
      },
      "moveMenuLeft": true,
      "nav_menu": {
        "height": "12px",
        "width": "252px"
      },
      "navigate_menu": true,
      "number_sections": true,
      "sideBar": true,
      "skip_h1_title": false,
      "threshold": 4,
      "toc_cell": false,
      "toc_position": {},
      "toc_section_display": "block",
      "toc_window_display": false,
      "widenNotebook": false
    },
    "colab": {
      "provenance": []
    }
  },
  "nbformat": 4,
  "nbformat_minor": 0
}