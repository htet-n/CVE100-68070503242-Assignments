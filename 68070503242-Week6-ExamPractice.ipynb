{
 "cells": [
  {
   "cell_type": "code",
   "execution_count": 1,
   "id": "a3307dc7",
   "metadata": {},
   "outputs": [
    {
     "name": "stdout",
     "output_type": "stream",
     "text": [
      "Car rented. Total cost = 500\n",
      "Model: Miata, Rent per day: 100, Status: False\n",
      "Car returned\n",
      "Model: Miata, Rent per day: 100, Status: True\n"
     ]
    }
   ],
   "source": [
    "class Car:\n",
    "    def __init__(self, model, rent_per_day, available=True):\n",
    "        self.model = model\n",
    "        self.rent_per_day = rent_per_day\n",
    "        self.available = True\n",
    "\n",
    "    def rent(self, days):\n",
    "        if self.available == True:\n",
    "            self.available = False\n",
    "            total_cost = self.rent_per_day * days\n",
    "            print(\"Car rented. Total cost = \" + str(total_cost))\n",
    "        else:\n",
    "            print(\"Car not available\")\n",
    "    \n",
    "    def return_car(self):\n",
    "        self.available = True\n",
    "        print(\"Car returned\")\n",
    "    def display(self):\n",
    "        print(\"Model: \" + str(self.model) + \", Rent per day: \" + str(self.rent_per_day) + \", Status: \" + str(self.available))\n",
    "        \n",
    "car = Car(\"Miata\", 100)\n",
    "car.rent(5)\n",
    "car.display()\n",
    "car.return_car()\n",
    "car.display()"
   ]
  },
  {
   "cell_type": "code",
   "execution_count": null,
   "id": "1ff4b3d6",
   "metadata": {},
   "outputs": [],
   "source": [
    "class Person:\n",
    "    def __init__(self, name, age):\n",
    "        self.name = name\n",
    "        self.age = age\n",
    "    def display_info(self):\n",
    "        print(\"Name\" + str(self.name) + \", Age\" + str(self.age))\n",
    "    \n",
    "class Student:\n",
    "    def __init__(self, name, age):\n",
    "        super().__init__(name, age)\n",
    "        self.mark = {}\n",
    "\n",
    "    def add_mark(self, subject, score):\n",
    "        if subject not in self.marks:\n",
    "            self.marks[subject] = score\n",
    "            print(\"Added a new subject\")\n",
    "        else:\n",
    "            old_score = self.marks[subject]\n",
    "            self.marks[subject] = score\n",
    "            print(\"Updated the score of the subject\")\n",
    "            print(\"Old score=\", old_score)\n",
    "            print(\"New score=\", score)\n",
    "    def display_marks(self):\n",
    "        print(\"Marks:\")\n",
    "        for subject, score in self.marks.items{}:\n",
    "            print(subject, \":\", score)\n",
    "    def average(self):\n",
    "        if not self.mark:\n",
    "            return 0\n",
    "        else:\n",
    "            return sum(self.mark.items())/sum(self.subject)\n",
    "student = Student(\"Thomas\", 19)\n",
    "student.display_info()\n",
    "\n",
    "student.add_mark(\"History:\", 99)\n",
    "student.add_mark(\"Computer Science\", 100)\n",
    "\n",
    "student.display_marks()\n",
    "\n",
    "average_score = student.average()\n",
    "print(\"Average score:\", str({average_score}))\n",
    "        \n"
   ]
  },
  {
   "cell_type": "code",
   "execution_count": null,
   "id": "3c217888",
   "metadata": {},
   "outputs": [],
   "source": []
  }
 ],
 "metadata": {
  "kernelspec": {
   "display_name": "Python 3",
   "language": "python",
   "name": "python3"
  },
  "language_info": {
   "codemirror_mode": {
    "name": "ipython",
    "version": 3
   },
   "file_extension": ".py",
   "mimetype": "text/x-python",
   "name": "python",
   "nbconvert_exporter": "python",
   "pygments_lexer": "ipython3",
   "version": "3.13.7"
  }
 },
 "nbformat": 4,
 "nbformat_minor": 5
}
